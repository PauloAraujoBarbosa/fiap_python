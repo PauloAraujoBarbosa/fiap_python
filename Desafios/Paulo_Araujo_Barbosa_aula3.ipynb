{
 "cells": [
  {
   "cell_type": "markdown",
   "metadata": {},
   "source": [
    "# Exercícios"
   ]
  },
  {
   "cell_type": "markdown",
   "metadata": {},
   "source": [
    "## 1) Crie uma classe que irá modelar características geométricas de um círculo. Deverá implementar os métodos:\n",
    "        -> Área \n",
    "        -> Perímetro\n",
    "## Utilize atributos de classe e de instância apropriados. Crie um inicializador e métodos.\n",
    "$area = \\pi*r^2$\n",
    "\n",
    "$perimetro = 2*\\pi*r$"
   ]
  },
  {
   "cell_type": "code",
   "execution_count": 10,
   "metadata": {},
   "outputs": [
    {
     "name": "stdout",
     "output_type": "stream",
     "text": [
      "28.274333882308138\n",
      "18.84955592153876\n"
     ]
    }
   ],
   "source": [
    "# resposta 1\n",
    "# biblioteca math\n",
    "import math\n",
    "class Geometrica:\n",
    "    def areaCirculo(self,raio):\n",
    "        return math.pi * raio**2\n",
    "    def perimetroCirculo(self,raio):\n",
    "        return 2 * math.pi * raio\n",
    "    \n",
    "obj = Geometrica()\n",
    "print(obj.areaCirculo(3))\n",
    "print(obj.perimetroCirculo(3))"
   ]
  },
  {
   "cell_type": "markdown",
   "metadata": {},
   "source": [
    "## 2) Crie uma classe chamada matemática que conterá duas classes: trigonométrica e algébrica. Defina dentro da classe trigonométrica as seguintes funções:\n",
    "    -> seno\n",
    "    -> cosseno\n",
    "    -> tangente\n",
    "## Defina dentro da classe algébrica as seguintes funções: \n",
    "    -> soma\n",
    "    -> subtração\n",
    "    -> multiplicação\n",
    "    -> divisão\n",
    "## Cada função deverá receber array e retornar array"
   ]
  },
  {
   "cell_type": "code",
   "execution_count": 39,
   "metadata": {},
   "outputs": [
    {
     "name": "stdout",
     "output_type": "stream",
     "text": [
      "Seno:  [ 0.14112001 -0.95892427 -0.2794155 ]\n",
      "Cosseno:  [-0.9899925   0.28366219  0.96017029]\n",
      "Tangente:  [-0.14254654 -3.38051501 -0.29100619]\n",
      "Soma:  [ 6 10 12]\n",
      "Subtração:  [0 0 0]\n",
      "Multiplicação:  [ 9 25 36]\n",
      "Divisão:  [1. 1. 1.]\n"
     ]
    }
   ],
   "source": [
    "# resposta 2\n",
    "# usar as funções built-in do numpy\n",
    "import numpy as np\n",
    "\n",
    "class Matematica:\n",
    "    class Trigonometrica:\n",
    "        def seno(self, array):\n",
    "            return np.sin(array)\n",
    "        def cosseno(self, array):\n",
    "            return np.cos(array)\n",
    "        def tangente(self, array):\n",
    "            return np.tan(array)\n",
    "        \n",
    "    class Algebrica:\n",
    "        def soma(self, array):\n",
    "            return np.add(array, array)\n",
    "        def subtracao(self, array):\n",
    "            return np.subtract(array, array)\n",
    "        def multiplicacao(self, array):\n",
    "            return np.multiply(array, array)\n",
    "        def divisao(self, array):\n",
    "            return np.divide(array, array)\n",
    "            \n",
    "m = Matematica()\n",
    "print('Seno: ', m.Trigonometrica().seno(np.array([3,5,6])))\n",
    "print('Cosseno: ', m.Trigonometrica().cosseno(np.array([3,5,6])))\n",
    "print('Tangente: ', m.Trigonometrica().tangente(np.array([3,5,6])))\n",
    "\n",
    "print('Soma: ', m.Algebrica().soma(np.array([3,5,6])))\n",
    "print('Subtração: ', m.Algebrica().subtracao(np.array([3,5,6])))\n",
    "print('Multiplicação: ', m.Algebrica().multiplicacao(np.array([3,5,6])))\n",
    "print('Divisão: ', m.Algebrica().divisao(np.array([3,5,6])))\n",
    "    "
   ]
  },
  {
   "cell_type": "markdown",
   "metadata": {},
   "source": [
    "## 3) Dados 2 arrays, A e B, remova de A todo elemento pertencente a B"
   ]
  },
  {
   "cell_type": "code",
   "execution_count": 40,
   "metadata": {},
   "outputs": [
    {
     "name": "stdout",
     "output_type": "stream",
     "text": [
      "[1 2 3]\n"
     ]
    }
   ],
   "source": [
    "# resposta 3\n",
    "array1 = np.array([1, 2, 3, 4, 5])\n",
    "array2 = np.array([4, 5, 6, 7, 8])\n",
    "\n",
    "print(np.setdiff1d(array1, array2))"
   ]
  },
  {
   "cell_type": "markdown",
   "metadata": {},
   "source": [
    "## 4) Crie uma função que recebe um array, um inteiro n e um inteiro m e que retorne outro array contendo elementos que estão entre os valores n e m do array recebido pela função. "
   ]
  },
  {
   "cell_type": "code",
   "execution_count": 4,
   "metadata": {},
   "outputs": [
    {
     "name": "stdout",
     "output_type": "stream",
     "text": [
      "[4, 5, 6, 77]\n"
     ]
    }
   ],
   "source": [
    "# resposta 4\n",
    "def funcSlice(array, n, m):\n",
    "    return array[n+1:m]\n",
    "\n",
    "print(funcSlice([9, 12, 23, 4, 5, 6, 77, 8], 2, 7))"
   ]
  },
  {
   "cell_type": "markdown",
   "metadata": {},
   "source": [
    "## 5) Escreva uma função que recebe um vetor e um inteiro. Compare cada elemento desse vetor com o número inteiro. Se o elemento do vetor for maior, retorne a diferença entre eles, caso contrário, retorne a soma."
   ]
  },
  {
   "cell_type": "code",
   "execution_count": 20,
   "metadata": {},
   "outputs": [
    {
     "name": "stdout",
     "output_type": "stream",
     "text": [
      "[[1 4 8 1 9 1 1 3 9 2]]\n",
      "[[4 1 5 4 6 4 4 6 6 5]]\n"
     ]
    }
   ],
   "source": [
    "# resposta 5\n",
    "import numpy as np\n",
    "\n",
    "def funcWhere(arr, inteiro):\n",
    "    return np.where(arr > inteiro, arr - inteiro, arr + inteiro)\n",
    "\n",
    "arr1 = np.random.randint(1,10,size=[1,10])\n",
    "print(arr1)\n",
    "print(funcWhere(arr1, 3))"
   ]
  },
  {
   "cell_type": "markdown",
   "metadata": {},
   "source": [
    "## 6) Dada a seguinte matriz:\n",
    "    -> [ 8,1,7\n",
    "         4,3,9\n",
    "         5,2,6]\n",
    "## escreva uma função que retorne a matriz ordenada por um dos eixos. utilize a função built-in sorted para realizar a ordenação"
   ]
  },
  {
   "cell_type": "code",
   "execution_count": 29,
   "metadata": {},
   "outputs": [
    {
     "name": "stdout",
     "output_type": "stream",
     "text": [
      "[[8 1 7]\n",
      " [4 3 9]\n",
      " [5 2 6]]\n",
      "[[1 7 8]\n",
      " [3 4 9]\n",
      " [2 5 6]]\n",
      "[[4 1 6]\n",
      " [5 2 7]\n",
      " [8 3 9]]\n"
     ]
    }
   ],
   "source": [
    "# resposta 6\n",
    "# função sort\n",
    "def funcM(matriz):\n",
    "    return np.sort(matriz)\n",
    "    \n",
    "\n",
    "m1 = np.array([[8,1,7], [4,3,9], [5,2,6]])\n",
    "print(m1)\n",
    "\n",
    "print(np.apply_along_axis(funcM, 1, arr=m1))\n",
    "print(np.apply_along_axis(funcM, 0, arr=m1))"
   ]
  },
  {
   "cell_type": "code",
   "execution_count": null,
   "metadata": {},
   "outputs": [],
   "source": []
  }
 ],
 "metadata": {
  "kernelspec": {
   "display_name": "Python 3",
   "language": "python",
   "name": "python3"
  },
  "language_info": {
   "codemirror_mode": {
    "name": "ipython",
    "version": 3
   },
   "file_extension": ".py",
   "mimetype": "text/x-python",
   "name": "python",
   "nbconvert_exporter": "python",
   "pygments_lexer": "ipython3",
   "version": "3.7.1"
  }
 },
 "nbformat": 4,
 "nbformat_minor": 4
}
