{
 "cells": [
  {
   "cell_type": "markdown",
   "metadata": {},
   "source": [
    "# Exercícios"
   ]
  },
  {
   "cell_type": "markdown",
   "metadata": {},
   "source": [
    "## 1) Inicie uma variável com o valor “josé da silva martins” e converta para o formato “José Da Silva Martins”, com uma única operação. Utilize string e/ou capwords.\n"
   ]
  },
  {
   "cell_type": "code",
   "execution_count": 1,
   "metadata": {},
   "outputs": [
    {
     "name": "stdout",
     "output_type": "stream",
     "text": [
      "José Da Silva Martins\n"
     ]
    }
   ],
   "source": [
    "# resposta 1\n",
    "import string\n",
    "nome = \"josé da silva martins\"\n",
    "print(string.capwords(nome))"
   ]
  },
  {
   "cell_type": "markdown",
   "metadata": {},
   "source": [
    "## 2) Crie uma função que verifique se um determinado número é ímpar, sendo ímpar deverá retornar verdadeiro e falso o contrário."
   ]
  },
  {
   "cell_type": "code",
   "execution_count": 2,
   "metadata": {},
   "outputs": [
    {
     "name": "stdout",
     "output_type": "stream",
     "text": [
      "True\n",
      "False\n"
     ]
    }
   ],
   "source": [
    "# resposta 2\n",
    "def numero_impar(num):\n",
    "    return True if ((num % 2) != 0) else False\n",
    "\n",
    "print(numero_impar(3))\n",
    "print(numero_impar(2))"
   ]
  },
  {
   "cell_type": "markdown",
   "metadata": {},
   "source": [
    "## 3) Dado uma lista l = [1.2232, 2.322, 43.23131, 6.34324, 78.3243] transforme seus valores para que ao final tenhamos números arrendados na segunda casa decimal. Utilize a função built-in round(numero, casas_decimais)\n"
   ]
  },
  {
   "cell_type": "code",
   "execution_count": 3,
   "metadata": {},
   "outputs": [
    {
     "name": "stdout",
     "output_type": "stream",
     "text": [
      "[1.22, 2.32, 43.23, 6.34, 78.32]\n",
      "[1.22, 2.32, 43.23, 6.34, 78.32]\n"
     ]
    }
   ],
   "source": [
    "# resposta 3\n",
    "l = [1.2232, 2.322, 43.23131, 6.34324, 78.3243]\n",
    "l_round = [round(l[0], 2), round(l[1], 2), round(l[2], 2), round(l[3], 2), round(l[4], 2)]\n",
    "print(l_round)\n",
    "\n",
    "#outra forma\n",
    "l_round2 = []\n",
    "for i in l:\n",
    "    l_round2.append(round(i, 2))\n",
    "    \n",
    "print(l_round2)"
   ]
  },
  {
   "cell_type": "markdown",
   "metadata": {},
   "source": [
    "## 4) Crie uma função que retorne na forma de um dicionário as seguintes informações do texto abaixo: número de palavras (e palavras), número de números (e números) e número de frases (e frases). Utilize a função built-in isdigit() do pacote string para verificar se determinado caractere é número e split(separador) para criar uma lista a partir do caracatere ou token de separação."
   ]
  },
  {
   "cell_type": "raw",
   "metadata": {},
   "source": [
    "Brasil, oficialmente República Federativa do Brasil é o maior país da América do Sul e da região da América Latina, sendo o quinto maior do mundo em área territorial (equivalente a 47 porcento do território sul-americano) e sexto em população (com mais de 200 milhões de habitantes). É o único país na América onde se fala majoritariamente a língua portuguesa e o maior país lusófono do planeta, além de ser uma das nações mais multiculturais e etnicamente diversas, em decorrência da forte imigração oriunda de variados locais do mundo."
   ]
  },
  {
   "cell_type": "code",
   "execution_count": 4,
   "metadata": {},
   "outputs": [
    {
     "name": "stdout",
     "output_type": "stream",
     "text": [
      "{'Qtde Palavras': 89, 'Palavaras': ['Brasil,', 'oficialmente', 'República', 'Federativa', 'do', 'Brasil', 'é', 'o', 'maior', 'país', 'da', 'América', 'do', 'Sul', 'e', 'da', 'região', 'da', 'América', 'Latina,', 'sendo', 'o', 'quinto', 'maior', 'do', 'mundo', 'em', 'área', 'territorial', '(equivalente', 'a', '47', 'porcento', 'do', 'território', 'sul-americano)', 'e', 'sexto', 'em', 'população', '(com', 'mais', 'de', '200', 'milhões', 'de', 'habitantes).', 'É', 'o', 'único', 'país', 'na', 'América', 'onde', 'se', 'fala', 'majoritariamente', 'a', 'língua', 'portuguesa', 'e', 'o', 'maior', 'país', 'lusófono', 'do', 'planeta,', 'além', 'de', 'ser', 'uma', 'das', 'nações', 'mais', 'multiculturais', 'e', 'etnicamente', 'diversas,', 'em', 'decorrência', 'da', 'forte', 'imigração', 'oriunda', 'de', 'variados', 'locais', 'do', 'mundo.'], 'Qtde Números': 2, 'Números': ['47', '200'], 'Qtde Frases': 2, 'Frases': ['Brasil, oficialmente República Federativa do Brasil é o maior país da América do Sul e da região da América Latina, sendo o quinto maior do mundo em área territorial (equivalente a 47 porcento do território sul-americano) e sexto em população (com mais de 200 milhões de habitantes)', 'É o único país na América onde se fala majoritariamente a língua portuguesa e o maior país lusófono do planeta, além de ser uma das nações mais multiculturais e etnicamente diversas, em decorrência da forte imigração oriunda de variados locais do mundo.']}\n"
     ]
    }
   ],
   "source": [
    "# resposta 4\n",
    "def func_dict(texto):\n",
    "        \n",
    "    palavras = str.split(texto, ' ')\n",
    "    frases = str.split(texto, '. ')\n",
    "    numeros = []\n",
    "    for numero in palavras:\n",
    "        if str.isdigit(numero):\n",
    "            numeros.append(numero)\n",
    "\n",
    "    #x = {len(frases):frases, len(palavras):palavras, len(numeros):numeros}\n",
    "    x = {'Qtde Palavras':len(palavras),'Palavaras':palavras, 'Qtde Números':len(numeros), 'Números':numeros, 'Qtde Frases':len(frases), 'Frases':frases}\n",
    "\n",
    "    return(x)\n",
    "\n",
    "print(func_dict('Brasil, oficialmente República Federativa do Brasil é o maior país da América do Sul e da região da América Latina, sendo o quinto maior do mundo em área territorial (equivalente a 47 porcento do território sul-americano) e sexto em população (com mais de 200 milhões de habitantes). É o único país na América onde se fala majoritariamente a língua portuguesa e o maior país lusófono do planeta, além de ser uma das nações mais multiculturais e etnicamente diversas, em decorrência da forte imigração oriunda de variados locais do mundo.'))\n"
   ]
  },
  {
   "cell_type": "markdown",
   "metadata": {},
   "source": [
    "## 5) Implemente um algoritmo que calcule o fatorial de número de modo não-recursivo"
   ]
  },
  {
   "cell_type": "code",
   "execution_count": 5,
   "metadata": {},
   "outputs": [
    {
     "name": "stdout",
     "output_type": "stream",
     "text": [
      "120\n",
      "6\n"
     ]
    }
   ],
   "source": [
    "# resposta 5\n",
    "def fatorial(num):\n",
    "    fat = num\n",
    "    while num > 1:\n",
    "        fat = fat * (num - 1)\n",
    "        num -= 1\n",
    "    return fat\n",
    "\n",
    "print(fatorial(5))\n",
    "print(fatorial(3))"
   ]
  },
  {
   "cell_type": "markdown",
   "metadata": {},
   "source": [
    "## 6) Implemente duas funções:\n",
    "> Uma que converta graus Celsius para Fahrenheit\n",
    "\n",
    "> Outra que converta graus Fahrenheit para Celsius\n",
    "\n",
    "> 𝐹=  9/5×𝐶+32"
   ]
  },
  {
   "cell_type": "code",
   "execution_count": 6,
   "metadata": {},
   "outputs": [
    {
     "name": "stdout",
     "output_type": "stream",
     "text": [
      "33.8\n",
      "35.6\n",
      "37.4\n"
     ]
    }
   ],
   "source": [
    "# resposta 6\n",
    "# Celsius para Fahrenheit\n",
    "def celsius_fahrenheit(graus):\n",
    "    return (9 / 5) * graus + 32\n",
    "\n",
    "print(celsius_fahrenheit(1))\n",
    "print(celsius_fahrenheit(2))\n",
    "print(celsius_fahrenheit(3))"
   ]
  },
  {
   "cell_type": "code",
   "execution_count": 7,
   "metadata": {},
   "outputs": [
    {
     "name": "stdout",
     "output_type": "stream",
     "text": [
      "0.0\n",
      "0.5555555555555556\n",
      "1.1111111111111112\n"
     ]
    }
   ],
   "source": [
    "# resposta 6\n",
    "# Fahrenheit para Celsius\n",
    "def fahrenheit_celsius(graus):\n",
    "    return (graus - 32) * (5 / 9) \n",
    "\n",
    "print(fahrenheit_celsius(32))\n",
    "print(fahrenheit_celsius(33))\n",
    "print(fahrenheit_celsius(34))"
   ]
  },
  {
   "cell_type": "markdown",
   "metadata": {},
   "source": [
    "## 7) Implemente uma função que receba uma lista com 100 números, de 0 a 100, e retorne outra lista contendo apenas os números primos. \n",
    "    > Use numpy.arange para gerar a lista"
   ]
  },
  {
   "cell_type": "code",
   "execution_count": 8,
   "metadata": {},
   "outputs": [
    {
     "name": "stdout",
     "output_type": "stream",
     "text": [
      "[0, 1, 2, 3, 5, 7, 11, 13, 17, 19, 23, 29, 31, 37, 41, 43, 47, 53, 59, 61, 67, 71, 73, 79, 83, 89, 97]\n"
     ]
    }
   ],
   "source": [
    "# resposta 7\n",
    "import numpy as np\n",
    "\n",
    "def primos(lista):\n",
    "    lista2 = []\n",
    "    divisor = 0\n",
    "    for x, y in enumerate(lista):\n",
    "        if lista[y] >= 2:\n",
    "            for j in range(2, lista[y]+1):\n",
    "                if lista[y] % j == 0:\n",
    "                    divisor += 1\n",
    "                    if divisor > 1:\n",
    "                        break\n",
    "        if divisor > 1:\n",
    "            pass\n",
    "        else:\n",
    "            lista2.append(lista[y])\n",
    "        divisor = 0\n",
    "    return lista2\n",
    "\n",
    "print(primos(np.arange(100)))\n"
   ]
  },
  {
   "cell_type": "code",
   "execution_count": null,
   "metadata": {},
   "outputs": [],
   "source": []
  }
 ],
 "metadata": {
  "kernelspec": {
   "display_name": "Python 3",
   "language": "python",
   "name": "python3"
  },
  "language_info": {
   "codemirror_mode": {
    "name": "ipython",
    "version": 3
   },
   "file_extension": ".py",
   "mimetype": "text/x-python",
   "name": "python",
   "nbconvert_exporter": "python",
   "pygments_lexer": "ipython3",
   "version": "3.7.1"
  }
 },
 "nbformat": 4,
 "nbformat_minor": 4
}
