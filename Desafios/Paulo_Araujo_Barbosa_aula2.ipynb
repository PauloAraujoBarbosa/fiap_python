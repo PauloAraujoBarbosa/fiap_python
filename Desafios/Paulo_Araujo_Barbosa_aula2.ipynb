{
 "cells": [
  {
   "cell_type": "markdown",
   "metadata": {},
   "source": [
    "# Exercícios"
   ]
  },
  {
   "cell_type": "markdown",
   "metadata": {},
   "source": [
    "## 1) Escreva uma função que verifique se há uma letra no começo de uma frase. Se houver, retorne True, caso contrário, retorne False. "
   ]
  },
  {
   "cell_type": "code",
   "execution_count": 1,
   "metadata": {},
   "outputs": [
    {
     "name": "stdout",
     "output_type": "stream",
     "text": [
      "True\n",
      "False\n",
      "False\n"
     ]
    }
   ],
   "source": [
    "# resposta 1\n",
    "# use regex\n",
    "import re\n",
    "def return_caracter(frase):\n",
    "    rex = re.compile('^[a-zA-Z]')\n",
    "    if rex.findall(frase):\n",
    "        return True\n",
    "    else:\n",
    "        return False\n",
    "    \n",
    "print(return_caracter('hhfksj'))\n",
    "print(return_caracter('8hhfksj'))\n",
    "print(return_caracter('@Absa'))  "
   ]
  },
  {
   "cell_type": "markdown",
   "metadata": {},
   "source": [
    "## 2) Reescreva a seguinte função usando:\n",
    "    -> map e lambda\n",
    "    -> list comprehension"
   ]
  },
  {
   "cell_type": "code",
   "execution_count": 2,
   "metadata": {},
   "outputs": [
    {
     "name": "stdout",
     "output_type": "stream",
     "text": [
      "[0, 1, 4, 9, 16, 25, 36, 49, 64, 81]\n"
     ]
    }
   ],
   "source": [
    "squares = []\n",
    "for x in range(10):\n",
    "    squares.append(x**2)\n",
    "    \n",
    "print(squares)"
   ]
  },
  {
   "cell_type": "code",
   "execution_count": 3,
   "metadata": {},
   "outputs": [
    {
     "name": "stdout",
     "output_type": "stream",
     "text": [
      "[0, 1, 4, 9, 16, 25, 36, 49, 64, 81]\n"
     ]
    }
   ],
   "source": [
    "# resposta 2-a\n",
    "print(list(map(lambda x: x**2, range(10))))"
   ]
  },
  {
   "cell_type": "code",
   "execution_count": 4,
   "metadata": {},
   "outputs": [
    {
     "name": "stdout",
     "output_type": "stream",
     "text": [
      "[0, 1, 4, 9, 16, 25, 36, 49, 64, 81]\n"
     ]
    }
   ],
   "source": [
    "# resposta 2-b\n",
    "print([x**2 for x in range(10)])"
   ]
  },
  {
   "cell_type": "markdown",
   "metadata": {},
   "source": [
    "## 3) Escreva em Python uma função que, dadas duas listas não vazias e de mesmo comprimento, retorne como resultado uma nova lista contendo em cada posição a soma dos elementos correspondentes nas duas listas recebidas.\n",
    "    -> l1 = [1,2,3,4,5]\n",
    "    -> l2 = [1,2,3,4,5]\n",
    "    -> resultado = [2,4,6,8,10]"
   ]
  },
  {
   "cell_type": "code",
   "execution_count": 5,
   "metadata": {},
   "outputs": [
    {
     "name": "stdout",
     "output_type": "stream",
     "text": [
      "[2, 4, 6, 8, 10]\n",
      "[11, 4, 6, 8, 10]\n",
      "[2, 4, 6, 8, 10]\n",
      "[11, 4, 6, 8, 10]\n"
     ]
    }
   ],
   "source": [
    "# resposta 3\n",
    "def nova_lista(lista1, lista2):\n",
    "    return(list(sum(x) for x in list(zip(lista1, lista2))))\n",
    "print(nova_lista([1,2,3,4,5], [1,2,3,4,5]))\n",
    "print(nova_lista([10,2,3,4,5], [1,2,3,4,5]))\n",
    "\n",
    "#outra forma\n",
    "def nova_lista2(lista1, lista2):\n",
    "    return list(map(lambda x,y: x+y, lista1, lista2))\n",
    "\n",
    "print(nova_lista2([1,2,3,4,5], [1,2,3,4,5]))\n",
    "print(nova_lista2([10,2,3,4,5], [1,2,3,4,5]))"
   ]
  },
  {
   "cell_type": "markdown",
   "metadata": {},
   "source": [
    "## 4) A amplitude de um vetor 3D é dado pela seguinte fórmula: $\\sqrt{x^2 + y^2 + z^2}$\n",
    "## Escreva uma função, usando lambda, que calcule a amplitude dos seguintes vetores:\n",
    "    -> (1,1,1) \n",
    "    -> (3,4,5)"
   ]
  },
  {
   "cell_type": "code",
   "execution_count": 6,
   "metadata": {},
   "outputs": [
    {
     "name": "stdout",
     "output_type": "stream",
     "text": [
      "1.7320508075688772\n",
      "7.0710678118654755\n"
     ]
    }
   ],
   "source": [
    "# resposta 4\n",
    "import math\n",
    "\n",
    "def amplitude(vetor):\n",
    "    return math.sqrt(sum(map(lambda x: x**2, vetor)))\n",
    "\n",
    "vet1 = (1,1,1)\n",
    "vet2 = (3,4,5)\n",
    "print(amplitude(vet1))\n",
    "print(amplitude(vet2))"
   ]
  },
  {
   "cell_type": "markdown",
   "metadata": {},
   "source": [
    "## 5) Use reduce para criar uma função que calcule o fatorial de qualquer número n"
   ]
  },
  {
   "cell_type": "code",
   "execution_count": 7,
   "metadata": {},
   "outputs": [
    {
     "name": "stdout",
     "output_type": "stream",
     "text": [
      "720\n",
      "120\n",
      "6\n"
     ]
    }
   ],
   "source": [
    "# resposta 5\n",
    "from functools import reduce\n",
    "import numpy as np\n",
    "\n",
    "def fatorial_reduce(num):\n",
    "    if num <= 0: return 0\n",
    "    if num == 1: return 1\n",
    "    return reduce(lambda x, y: x*y, np.arange(1, num + 1)[::-1])\n",
    "\n",
    "print(fatorial_reduce(6))\n",
    "print(fatorial_reduce(5))\n",
    "print(fatorial_reduce(3))"
   ]
  },
  {
   "cell_type": "markdown",
   "metadata": {},
   "source": [
    "## 6) Reescreva a função abaixo usando list comprehension:"
   ]
  },
  {
   "cell_type": "code",
   "execution_count": 8,
   "metadata": {},
   "outputs": [
    {
     "name": "stdout",
     "output_type": "stream",
     "text": [
      "['the', 'quick', 'brown', 'fox', 'jumps', 'over', 'the', 'lazy', 'dog']\n",
      "[5, 5, 3, 5, 4, 4, 3]\n"
     ]
    }
   ],
   "source": [
    "sentence = \"the quick brown fox jumps over the lazy dog\"\n",
    "words = sentence.split()\n",
    "word_lengths = []\n",
    "for word in words:\n",
    "      if word != \"the\":\n",
    "          word_lengths.append(len(word))\n",
    "print(words)\n",
    "print(word_lengths)"
   ]
  },
  {
   "cell_type": "code",
   "execution_count": 9,
   "metadata": {},
   "outputs": [
    {
     "name": "stdout",
     "output_type": "stream",
     "text": [
      "['the', 'quick', 'brown', 'fox', 'jumps', 'over', 'the', 'lazy', 'dog']\n",
      "[5, 5, 3, 5, 4, 4, 3]\n"
     ]
    }
   ],
   "source": [
    "# resposta 6\n",
    "sentence = \"the quick brown fox jumps over the lazy dog\"\n",
    "words = sentence.split()\n",
    "word_lengths = [len(word) for word in words if word != \"the\"]\n",
    "print(words)\n",
    "print(word_lengths)"
   ]
  },
  {
   "cell_type": "markdown",
   "metadata": {},
   "source": [
    "## 7) Calcule o número de meses desde a data que o brasil foi descoberto. Considere um mês com 30 dias. Dia do descobrimento do Brasil 22/04/1500."
   ]
  },
  {
   "cell_type": "code",
   "execution_count": 10,
   "metadata": {},
   "outputs": [
    {
     "name": "stdout",
     "output_type": "stream",
     "text": [
      "6323\n"
     ]
    }
   ],
   "source": [
    "# resposta 7\n",
    "import datetime\n",
    "\n",
    "data_desc = datetime.date(1500, 4, 22)\n",
    "meses = (datetime.date.today() - data_desc).days // 30\n",
    "\n",
    "print(meses)"
   ]
  },
  {
   "cell_type": "markdown",
   "metadata": {},
   "source": [
    "## 8) Implementar um programa que receba um nome de arquivo e gere estatísticas sobre o arquivo (número de caracteres, número de linhas e número de palavras)\n",
    "    -> verifique a existência do arquivo\n",
    "    -> crie um arquivo de texto fictício contendo 10 linhas"
   ]
  },
  {
   "cell_type": "code",
   "execution_count": 11,
   "metadata": {},
   "outputs": [
    {
     "name": "stdin",
     "output_type": "stream",
     "text": [
      "Nome do arquivo:  exercicio8.txt\n"
     ]
    },
    {
     "name": "stdout",
     "output_type": "stream",
     "text": [
      "33\n",
      "159\n",
      "11\n"
     ]
    }
   ],
   "source": [
    "# resposta 8\n",
    "import sys\n",
    "import os.path\n",
    "\n",
    "arquivo = input('Nome do arquivo: ').strip()\n",
    "palavras = 0\n",
    "linhas = 0\n",
    "caracteres = 0\n",
    "if not os.path.exists(arquivo):\n",
    "    print ('Tente outra vez...')\n",
    "    sys.exit()\n",
    "\n",
    "for i, s in enumerate(open(arquivo)):\n",
    "    #palavras = palavras.append(list(len(str.split(s))))\n",
    "    palavras = palavras + (len(str.split(s)))\n",
    "    caracteres = caracteres + (len(s.replace(\" \",\"\")))\n",
    "    linhas = linhas + 1\n",
    "print(palavras)\n",
    "print(caracteres)\n",
    "print(linhas)"
   ]
  },
  {
   "cell_type": "code",
   "execution_count": null,
   "metadata": {},
   "outputs": [],
   "source": []
  }
 ],
 "metadata": {
  "kernelspec": {
   "display_name": "Python 3",
   "language": "python",
   "name": "python3"
  },
  "language_info": {
   "codemirror_mode": {
    "name": "ipython",
    "version": 3
   },
   "file_extension": ".py",
   "mimetype": "text/x-python",
   "name": "python",
   "nbconvert_exporter": "python",
   "pygments_lexer": "ipython3",
   "version": "3.6.8"
  }
 },
 "nbformat": 4,
 "nbformat_minor": 4
}
