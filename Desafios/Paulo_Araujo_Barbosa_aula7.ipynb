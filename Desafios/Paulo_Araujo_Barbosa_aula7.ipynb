{
 "cells": [
  {
   "cell_type": "markdown",
   "metadata": {},
   "source": [
    "## Aluno: Paulo Araujo Barbosa"
   ]
  },
  {
   "cell_type": "markdown",
   "metadata": {},
   "source": [
    "### usando o arquivo house_prices.csv, responda as questões abaixo"
   ]
  },
  {
   "cell_type": "markdown",
   "metadata": {},
   "source": [
    "## 1) leia o arquivo, trate os valores faltantes e remova duplicatas"
   ]
  },
  {
   "cell_type": "code",
   "execution_count": 1,
   "metadata": {},
   "outputs": [
    {
     "name": "stdout",
     "output_type": "stream",
     "text": [
      "   tamanho  n_quartos  idade   preco\n",
      "0   2104.0        3.0   45.0  399900\n",
      "1   2104.0        3.0   45.0  399900\n",
      "2   1600.0        3.0   30.0  329900\n",
      "3   2400.0        3.0   32.0  369000\n",
      "4   1416.0        2.0   10.0  232000\n",
      "\n",
      "\n",
      "tamanho      1\n",
      "n_quartos    1\n",
      "idade        2\n",
      "preco        0\n",
      "dtype: int64\n",
      "\n",
      "\n",
      "tamanho      0\n",
      "n_quartos    0\n",
      "idade        0\n",
      "preco        0\n",
      "dtype: int64\n",
      "\n",
      "\n",
      "   tamanho  n_quartos  idade   preco\n",
      "1   2104.0        3.0   45.0  399900\n",
      "\n",
      "\n",
      "50\n",
      "\n",
      "\n",
      "49\n"
     ]
    }
   ],
   "source": [
    "# resposta 1\n",
    "import pandas as pd \n",
    "import numpy as np \n",
    "import altair as alt \n",
    "import matplotlib.pyplot as plt\n",
    "import seaborn as sns\n",
    "\n",
    "df1 = pd.read_csv('house_prices.csv', sep = ';')\n",
    "print(df1.head())\n",
    "print('\\n')\n",
    "print(df1.isna().sum())\n",
    "df1.update(df1['tamanho'].fillna(np.mean(df1['tamanho'])))\n",
    "df1.update(df1['n_quartos'].fillna(np.mean(df1['n_quartos'])))\n",
    "df1.update(df1['idade'].fillna(np.mean(df1['idade'])))\n",
    "print('\\n')\n",
    "print(df1.isna().sum())\n",
    "print('\\n')\n",
    "print(df1[df1.duplicated()])\n",
    "print('\\n')\n",
    "print(len(df1))\n",
    "\n",
    "df1 = df1.drop_duplicates()\n",
    "print('\\n')\n",
    "print(len(df1))"
   ]
  },
  {
   "cell_type": "markdown",
   "metadata": {},
   "source": [
    "## 2) Há outliers no data set? Se sim, trate-os de forma adequada. Use box-plots para confirmar a presença de outliers"
   ]
  },
  {
   "cell_type": "code",
   "execution_count": 2,
   "metadata": {},
   "outputs": [
    {
     "name": "stdout",
     "output_type": "stream",
     "text": [
      "AxesSubplot(0.125,0.125;0.775x0.755)\n"
     ]
    },
    {
     "data": {
      "image/png": "[encoded data removed]",
      "text/plain": [
       "<Figure size 432x288 with 1 Axes>"
      ]
     },
     "metadata": {
      "needs_background": "light"
     },
     "output_type": "display_data"
    }
   ],
   "source": [
    "# resposta 2\n",
    "# remover os outliers\n",
    "print(df1.boxplot(column='tamanho'))"
   ]
  },
  {
   "cell_type": "code",
   "execution_count": 3,
   "metadata": {},
   "outputs": [
    {
     "name": "stdout",
     "output_type": "stream",
     "text": [
      "AxesSubplot(0.125,0.125;0.775x0.755)\n"
     ]
    },
    {
     "data": {
      "image/png": "[encoded data removed]",
      "text/plain": [
       "<Figure size 432x288 with 1 Axes>"
      ]
     },
     "metadata": {
      "needs_background": "light"
     },
     "output_type": "display_data"
    }
   ],
   "source": [
    "print(df1.boxplot(column='n_quartos')) "
   ]
  },
  {
   "cell_type": "code",
   "execution_count": 4,
   "metadata": {},
   "outputs": [
    {
     "name": "stdout",
     "output_type": "stream",
     "text": [
      "AxesSubplot(0.125,0.125;0.775x0.755)\n"
     ]
    },
    {
     "data": {
      "image/png": "[encoded data removed]",
      "text/plain": [
       "<Figure size 432x288 with 1 Axes>"
      ]
     },
     "metadata": {
      "needs_background": "light"
     },
     "output_type": "display_data"
    }
   ],
   "source": [
    "print(df1.boxplot(column='idade'))"
   ]
  },
  {
   "cell_type": "code",
   "execution_count": 5,
   "metadata": {},
   "outputs": [
    {
     "name": "stdout",
     "output_type": "stream",
     "text": [
      "AxesSubplot(0.125,0.125;0.775x0.755)\n"
     ]
    },
    {
     "data": {
      "image/png": "[encoded data removed]",
      "text/plain": [
       "<Figure size 432x288 with 1 Axes>"
      ]
     },
     "metadata": {
      "needs_background": "light"
     },
     "output_type": "display_data"
    }
   ],
   "source": [
    "print(df1.boxplot(column='preco'))"
   ]
  },
  {
   "cell_type": "code",
   "execution_count": 15,
   "metadata": {},
   "outputs": [
    {
     "name": "stdout",
     "output_type": "stream",
     "text": [
      "           tamanho  n_quartos       idade          preco\n",
      "count    49.000000  49.000000   49.000000      49.000000\n",
      "mean   1988.381508   3.145773   23.061224  336516.020408\n",
      "std     782.561794   0.763479   24.842133  123890.237587\n",
      "min     852.000000   1.000000    2.000000  169900.000000\n",
      "25%    1427.000000   3.000000   10.000000  249890.000000\n",
      "50%    1888.000000   3.000000   18.000000  299900.000000\n",
      "75%    2238.000000   4.000000   30.000000  369000.000000\n",
      "max    4478.000000   5.000000  170.000000  699900.000000\n",
      "\n",
      "\n",
      "tamanho        1988.381508\n",
      "n_quartos         3.145773\n",
      "idade            23.061224\n",
      "preco        336516.020408\n",
      "dtype: float64\n",
      "\n",
      "\n",
      "49\n",
      "\n",
      "\n",
      "   tamanho  n_quartos  idade   preco\n",
      "0   2104.0        3.0   45.0  399900\n",
      "2   1600.0        3.0   30.0  329900\n",
      "3   2400.0        3.0   32.0  369000\n",
      "4   1416.0        2.0   10.0  232000\n",
      "5   3000.0        4.0   14.0  539900\n"
     ]
    }
   ],
   "source": [
    "print(df1.describe())\n",
    "print('\\n')\n",
    "print(np.mean(df1, axis=0))\n",
    "print('\\n')\n",
    "print(len(df1))\n",
    "print('\\n')\n",
    "print(df1.head())"
   ]
  },
  {
   "cell_type": "code",
   "execution_count": 54,
   "metadata": {},
   "outputs": [
    {
     "name": "stdout",
     "output_type": "stream",
     "text": [
      "<class 'pandas.core.frame.DataFrame'>\n",
      "Int64Index: 47 entries, 0 to 49\n",
      "Data columns (total 4 columns):\n",
      "tamanho      47 non-null float64\n",
      "n_quartos    47 non-null float64\n",
      "idade        47 non-null float64\n",
      "preco        47 non-null int64\n",
      "dtypes: float64(3), int64(1)\n",
      "memory usage: 1.8 KB\n"
     ]
    }
   ],
   "source": [
    "#Usando Z-score\n",
    "from scipy import stats\n",
    "df2 = df1\n",
    "z = np.abs(stats.zscore(df2))\n",
    "df2 = df2[(z < 3).all(axis=1)]     \n",
    "\n",
    "df2.info()"
   ]
  },
  {
   "cell_type": "markdown",
   "metadata": {},
   "source": [
    "## 3) insira uma coluna, denominada 'n_andares', com valores no intervalo [1,2], preenchidos de forma aleatória"
   ]
  },
  {
   "cell_type": "code",
   "execution_count": 56,
   "metadata": {},
   "outputs": [
    {
     "data": {
      "text/html": [
       "<div>\n",
       "<style scoped>\n",
       "    .dataframe tbody tr th:only-of-type {\n",
       "        vertical-align: middle;\n",
       "    }\n",
       "\n",
       "    .dataframe tbody tr th {\n",
       "        vertical-align: top;\n",
       "    }\n",
       "\n",
       "    .dataframe thead th {\n",
       "        text-align: right;\n",
       "    }\n",
       "</style>\n",
       "<table border=\"1\" class=\"dataframe\">\n",
       "  <thead>\n",
       "    <tr style=\"text-align: right;\">\n",
       "      <th></th>\n",
       "      <th>tamanho</th>\n",
       "      <th>n_quartos</th>\n",
       "      <th>idade</th>\n",
       "      <th>preco</th>\n",
       "      <th>n_andares</th>\n",
       "    </tr>\n",
       "  </thead>\n",
       "  <tbody>\n",
       "    <tr>\n",
       "      <th>0</th>\n",
       "      <td>2104.0</td>\n",
       "      <td>3.0</td>\n",
       "      <td>45.0</td>\n",
       "      <td>399900</td>\n",
       "      <td>1</td>\n",
       "    </tr>\n",
       "    <tr>\n",
       "      <th>2</th>\n",
       "      <td>1600.0</td>\n",
       "      <td>3.0</td>\n",
       "      <td>30.0</td>\n",
       "      <td>329900</td>\n",
       "      <td>2</td>\n",
       "    </tr>\n",
       "    <tr>\n",
       "      <th>3</th>\n",
       "      <td>2400.0</td>\n",
       "      <td>3.0</td>\n",
       "      <td>32.0</td>\n",
       "      <td>369000</td>\n",
       "      <td>2</td>\n",
       "    </tr>\n",
       "    <tr>\n",
       "      <th>4</th>\n",
       "      <td>1416.0</td>\n",
       "      <td>2.0</td>\n",
       "      <td>10.0</td>\n",
       "      <td>232000</td>\n",
       "      <td>1</td>\n",
       "    </tr>\n",
       "    <tr>\n",
       "      <th>5</th>\n",
       "      <td>3000.0</td>\n",
       "      <td>4.0</td>\n",
       "      <td>14.0</td>\n",
       "      <td>539900</td>\n",
       "      <td>2</td>\n",
       "    </tr>\n",
       "  </tbody>\n",
       "</table>\n",
       "</div>"
      ],
      "text/plain": [
       "   tamanho  n_quartos  idade   preco  n_andares\n",
       "0   2104.0        3.0   45.0  399900          1\n",
       "2   1600.0        3.0   30.0  329900          2\n",
       "3   2400.0        3.0   32.0  369000          2\n",
       "4   1416.0        2.0   10.0  232000          1\n",
       "5   3000.0        4.0   14.0  539900          2"
      ]
     },
     "execution_count": 56,
     "metadata": {},
     "output_type": "execute_result"
    }
   ],
   "source": [
    "# resposta 3\n",
    "\n",
    "df2.insert(len(df2.columns),'n_andares', np.random.randint(1, 3, size = len(df2)))\n",
    "df2.head()"
   ]
  },
  {
   "cell_type": "markdown",
   "metadata": {},
   "source": [
    "## 4) para cada variável, plote um scatter e verifique sua relação com a variável meta (preco)"
   ]
  },
  {
   "cell_type": "code",
   "execution_count": 62,
   "metadata": {},
   "outputs": [
    {
     "data": {
      "text/plain": [
       "Text(0, 0.5, 'preco')"
      ]
     },
     "execution_count": 62,
     "metadata": {},
     "output_type": "execute_result"
    },
    {
     "data": {
      "image/png": "[encoded data removed]",
      "text/plain": [
       "<Figure size 432x288 with 1 Axes>"
      ]
     },
     "metadata": {
      "needs_background": "light"
     },
     "output_type": "display_data"
    }
   ],
   "source": [
    "# resposta 4\n",
    "plt.plot(df2['tamanho'], df2['preco'], 'o', color='red')\n",
    "plt.xlabel('tamanho')\n",
    "plt.ylabel('preco')"
   ]
  },
  {
   "cell_type": "code",
   "execution_count": 63,
   "metadata": {},
   "outputs": [
    {
     "data": {
      "text/plain": [
       "Text(0, 0.5, 'preco')"
      ]
     },
     "execution_count": 63,
     "metadata": {},
     "output_type": "execute_result"
    },
    {
     "data": {
      "image/png": "[encoded data removed]",
      "text/plain": [
       "<Figure size 432x288 with 1 Axes>"
      ]
     },
     "metadata": {
      "needs_background": "light"
     },
     "output_type": "display_data"
    }
   ],
   "source": [
    "plt.plot(df2['n_quartos'], df2['preco'], 'o', color='blue')\n",
    "plt.xlabel('n_quartos')\n",
    "plt.ylabel('preco')"
   ]
  },
  {
   "cell_type": "code",
   "execution_count": 64,
   "metadata": {},
   "outputs": [
    {
     "data": {
      "text/plain": [
       "Text(0, 0.5, 'preco')"
      ]
     },
     "execution_count": 64,
     "metadata": {},
     "output_type": "execute_result"
    },
    {
     "data": {
      "image/png": "[encoded data removed]",
      "text/plain": [
       "<Figure size 432x288 with 1 Axes>"
      ]
     },
     "metadata": {
      "needs_background": "light"
     },
     "output_type": "display_data"
    }
   ],
   "source": [
    "plt.plot(df2['idade'], df2['preco'], 'o', color='yellow')\n",
    "plt.xlabel('idade')\n",
    "plt.ylabel('preco')"
   ]
  },
  {
   "cell_type": "code",
   "execution_count": 65,
   "metadata": {},
   "outputs": [
    {
     "data": {
      "text/plain": [
       "Text(0, 0.5, 'preco')"
      ]
     },
     "execution_count": 65,
     "metadata": {},
     "output_type": "execute_result"
    },
    {
     "data": {
      "image/png": "[encoded data removed]",
      "text/plain": [
       "<Figure size 432x288 with 1 Axes>"
      ]
     },
     "metadata": {
      "needs_background": "light"
     },
     "output_type": "display_data"
    }
   ],
   "source": [
    "plt.plot(df2['n_andares'], df2['preco'], 'o', color='black')\n",
    "plt.xlabel('n_andares')\n",
    "plt.ylabel('preco')"
   ]
  },
  {
   "cell_type": "markdown",
   "metadata": {},
   "source": [
    "## 5) Separe o dataset em conjuntos de treino e teste, na proporção 70/30"
   ]
  },
  {
   "cell_type": "code",
   "execution_count": 66,
   "metadata": {},
   "outputs": [],
   "source": [
    "# resposta 5\n",
    "from sklearn.model_selection import train_test_split\n",
    "\n",
    "features = ['tamanho','n_quartos','idade','n_andares']\n",
    "meta = ['preco']\n",
    "\n",
    "X = df2[features].values\n",
    "y = df2[meta].values\n",
    "split_test_size = 0.30\n",
    "\n",
    "X_train, X_test, y_train, y_test = train_test_split(X, y, test_size=split_test_size, random_state=15)"
   ]
  },
  {
   "cell_type": "markdown",
   "metadata": {},
   "source": [
    "## 6) Utilizando a Scikit Learn, ajuste uma regressão linear aos dados e mostre o MSE da etapa de treinamento"
   ]
  },
  {
   "cell_type": "code",
   "execution_count": 67,
   "metadata": {},
   "outputs": [
    {
     "data": {
      "text/plain": [
       "3199565229.6272917"
      ]
     },
     "execution_count": 67,
     "metadata": {},
     "output_type": "execute_result"
    }
   ],
   "source": [
    "# resposta 6\n",
    "from sklearn import linear_model\n",
    "from sklearn.metrics import mean_squared_error\n",
    "\n",
    "regressao_modelo = linear_model.LinearRegression()\n",
    "regressao_modelo.fit(X_train, y_train.ravel())\n",
    "\n",
    "y_pred_train = regressao_modelo.predict(X_train)\n",
    "mean_squared_error(y_train,y_pred_train)"
   ]
  },
  {
   "cell_type": "markdown",
   "metadata": {},
   "source": [
    "## 7) Prediga o valor da variável meta para cada amostra do conjunto de teste. Qual o MSE? Retorne um DataFrame contendo valor predito na primeira coluna e valor verdadeiro na segunda"
   ]
  },
  {
   "cell_type": "code",
   "execution_count": 68,
   "metadata": {},
   "outputs": [
    {
     "data": {
      "text/html": [
       "<div>\n",
       "<style scoped>\n",
       "    .dataframe tbody tr th:only-of-type {\n",
       "        vertical-align: middle;\n",
       "    }\n",
       "\n",
       "    .dataframe tbody tr th {\n",
       "        vertical-align: top;\n",
       "    }\n",
       "\n",
       "    .dataframe thead th {\n",
       "        text-align: right;\n",
       "    }\n",
       "</style>\n",
       "<table border=\"1\" class=\"dataframe\">\n",
       "  <thead>\n",
       "    <tr style=\"text-align: right;\">\n",
       "      <th></th>\n",
       "      <th>valor_predito</th>\n",
       "      <th>valor_verdadeiro</th>\n",
       "    </tr>\n",
       "  </thead>\n",
       "  <tbody>\n",
       "    <tr>\n",
       "      <th>0</th>\n",
       "      <td>[265193.096358177, 197674.6553776558, 283404.7...</td>\n",
       "      <td>[[464500], [249900], [232000], [169900], [5490...</td>\n",
       "    </tr>\n",
       "  </tbody>\n",
       "</table>\n",
       "</div>"
      ],
      "text/plain": [
       "                                       valor_predito  \\\n",
       "0  [265193.096358177, 197674.6553776558, 283404.7...   \n",
       "\n",
       "                                    valor_verdadeiro  \n",
       "0  [[464500], [249900], [232000], [169900], [5490...  "
      ]
     },
     "execution_count": 68,
     "metadata": {},
     "output_type": "execute_result"
    }
   ],
   "source": [
    "# resposta 7\n",
    "# predict\n",
    "y_pred_test = regressao_modelo.predict(X_test)\n",
    "pd.DataFrame(data={'valor_predito': [y_pred_test], 'valor_verdadeiro': [y_test]})"
   ]
  },
  {
   "cell_type": "code",
   "execution_count": null,
   "metadata": {},
   "outputs": [],
   "source": []
  }
 ],
 "metadata": {
  "kernelspec": {
   "display_name": "Python 3",
   "language": "python",
   "name": "python3"
  },
  "language_info": {
   "codemirror_mode": {
    "name": "ipython",
    "version": 3
   },
   "file_extension": ".py",
   "mimetype": "text/x-python",
   "name": "python",
   "nbconvert_exporter": "python",
   "pygments_lexer": "ipython3",
   "version": "3.7.4"
  }
 },
 "nbformat": 4,
 "nbformat_minor": 4
}
